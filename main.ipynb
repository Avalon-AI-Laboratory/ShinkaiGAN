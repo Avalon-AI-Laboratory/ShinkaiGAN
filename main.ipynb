{
 "cells": [
  {
   "cell_type": "code",
   "execution_count": 2,
   "metadata": {},
   "outputs": [],
   "source": [
    "import torch\n",
    "import torch.nn as nn\n",
    "import torch.optim as optim\n",
    "\n",
    "from models.vqi2i.modules.encoders.network import *"
   ]
  },
  {
   "cell_type": "code",
   "execution_count": 3,
   "metadata": {},
   "outputs": [
    {
     "name": "stdout",
     "output_type": "stream",
     "text": [
      "Melakukan operasi pada z dengan dimensi (1, 16, 16, 32) = 8192 dimensi.\n",
      "Melakukan operasi pada z dengan dimensi (1, 16, 16, 32) = 8192 dimensi.\n"
     ]
    }
   ],
   "source": [
    "style_enc_tesA = StyleEncoder(in_channels=3, hidden_dimensions=128, style_dimensions=128, n_downsampling=3)\n",
    "style_enc_tesB = StyleEncoder(in_channels=3, hidden_dimensions=128, style_dimensions=128, n_downsampling=3)\n",
    "encoder_tes = ContentEncoder(in_channels=3, intermediate_channels=128, channel_multipliers=[1,2,4,8], resblock_counts=2, attn_resolutions=[16], dropout=0.1, z_channels=16, double_z=False)\n",
    "decoder_tes_A = Decoder(out_channels=3, intermediate_channels=128, channel_multipliers=[1,2,4,8], resblock_counts=2, attn_resolutions=[16], dropout=0.1, resolution=128, z_channels=16, double_z=True, n_adaresblock=4, style_dim=128)\n",
    "decoder_tes_B = Decoder(out_channels=3, intermediate_channels=128, channel_multipliers=[1,2,4,8], resblock_counts=2, attn_resolutions=[16], dropout=0.1, resolution=128, z_channels=16, double_z=True, n_adaresblock=4, style_dim=128)"
   ]
  },
  {
   "cell_type": "code",
   "execution_count": 4,
   "metadata": {},
   "outputs": [],
   "source": [
    "dummy_data_A = torch.randn(1, 3, 256, 256)\n",
    "dummy_data_B = torch.randn(1, 3, 256, 256)\n",
    "\n",
    "style_vec_A = style_enc_tesA(dummy_data_A)\n",
    "style_vec_B = style_enc_tesB(dummy_data_B)\n",
    "content_A = encoder_tes(dummy_data_A)\n",
    "content_B = encoder_tes(dummy_data_B)"
   ]
  },
  {
   "cell_type": "code",
   "execution_count": 5,
   "metadata": {},
   "outputs": [],
   "source": [
    "decode_A_using_style_B = decoder_tes_A(content_A, style_vec_B)\n",
    "decode_B_using_style_A = decoder_tes_B(content_B, style_vec_A)\n",
    "decode_A_using_style_A = decoder_tes_A(content_A, style_vec_A)\n",
    "decode_B_using_style_B = decoder_tes_B(content_B, style_vec_B)"
   ]
  },
  {
   "cell_type": "code",
   "execution_count": 6,
   "metadata": {},
   "outputs": [
    {
     "name": "stdout",
     "output_type": "stream",
     "text": [
      "torch.Size([1, 3, 256, 256])\n",
      "torch.Size([1, 3, 256, 256])\n",
      "torch.Size([1, 3, 256, 256])\n",
      "torch.Size([1, 3, 256, 256])\n"
     ]
    }
   ],
   "source": [
    "print(decode_A_using_style_B.shape)\n",
    "print(decode_B_using_style_A.shape)\n",
    "print(decode_A_using_style_A.shape)\n",
    "print(decode_B_using_style_B.shape)"
   ]
  }
 ],
 "metadata": {
  "kernelspec": {
   "display_name": "MyTorch",
   "language": "python",
   "name": "python3"
  },
  "language_info": {
   "codemirror_mode": {
    "name": "ipython",
    "version": 3
   },
   "file_extension": ".py",
   "mimetype": "text/x-python",
   "name": "python",
   "nbconvert_exporter": "python",
   "pygments_lexer": "ipython3",
   "version": "3.10.13"
  }
 },
 "nbformat": 4,
 "nbformat_minor": 2
}
